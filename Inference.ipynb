{
 "cells": [
  {
   "cell_type": "code",
   "execution_count": 26,
   "id": "f448fba4",
   "metadata": {},
   "outputs": [],
   "source": [
    "from transformers import AutoModelForSequenceClassification, AutoTokenizer\n",
    "\n",
    "model_dir = '/home/jihyeparkk/GIT/KcBERT-Finetune/ckpt/kcbert-base-nsmc-ckpt/checkpoint-1000'"
   ]
  },
  {
   "cell_type": "code",
   "execution_count": 25,
   "id": "7f824b7c",
   "metadata": {},
   "outputs": [
    {
     "data": {
      "text/plain": [
       "('/home/jihyeparkk/GIT/KcBERT-Finetune/ckpt/kcbert-base-nsmc-ckpt/checkpoint-1000/tokenizer_config.json',\n",
       " '/home/jihyeparkk/GIT/KcBERT-Finetune/ckpt/kcbert-base-nsmc-ckpt/checkpoint-1000/special_tokens_map.json',\n",
       " '/home/jihyeparkk/GIT/KcBERT-Finetune/ckpt/kcbert-base-nsmc-ckpt/checkpoint-1000/vocab.txt',\n",
       " '/home/jihyeparkk/GIT/KcBERT-Finetune/ckpt/kcbert-base-nsmc-ckpt/checkpoint-1000/added_tokens.json',\n",
       " '/home/jihyeparkk/GIT/KcBERT-Finetune/ckpt/kcbert-base-nsmc-ckpt/checkpoint-1000/tokenizer.json')"
      ]
     },
     "execution_count": 25,
     "metadata": {},
     "output_type": "execute_result"
    }
   ],
   "source": [
    "tokenizer = AutoTokenizer.from_pretrained('beomi/kcbert-base')\n",
    "tokenizer.save_pretrained(model_dir)"
   ]
  },
  {
   "cell_type": "code",
   "execution_count": 28,
   "id": "7abe0ff5",
   "metadata": {},
   "outputs": [
    {
     "data": {
      "text/plain": [
       "device(type='cuda')"
      ]
     },
     "execution_count": 28,
     "metadata": {},
     "output_type": "execute_result"
    }
   ],
   "source": [
    "device = torch.device(\"cuda\" if torch.cuda.is_available() else \"cpu\")\n",
    "device"
   ]
  },
  {
   "cell_type": "code",
   "execution_count": 29,
   "id": "9a3fa839",
   "metadata": {},
   "outputs": [],
   "source": [
    "model = AutoModelForSequenceClassification.from_pretrained(model_dir)\n",
    "model = model.to(device)\n",
    "tokenizer = AutoTokenizer.from_pretrained(model_dir)"
   ]
  },
  {
   "cell_type": "code",
   "execution_count": 36,
   "id": "efc5cc8b",
   "metadata": {},
   "outputs": [],
   "source": [
    "import torch\n",
    "\n",
    "def inference(model, input_ids, attention_mask):\n",
    "    model.eval()\n",
    "    with torch.no_grad():\n",
    "        try: outputs = model(input_ids, attention_mask=attention_mask, return_dict=True)\n",
    "        except: return None\n",
    "    logits = outputs['logits']\n",
    "    predicted_label = torch.argmax(logits)\n",
    "    return predicted_label.item()\n",
    "\n",
    "def encode_for_inference(device, tokenizer, text):\n",
    "    data = {key: torch.tensor(val) for key, val in tokenizer(text, truncation=True, padding='max_length', max_length=512).items()}\n",
    "    return torch.unsqueeze(data['input_ids'], 0).to(device), torch.unsqueeze(data['attention_mask'], 0).to(device)"
   ]
  },
  {
   "cell_type": "code",
   "execution_count": 44,
   "id": "1565de53",
   "metadata": {},
   "outputs": [
    {
     "name": "stdout",
     "output_type": "stream",
     "text": [
      "이 마스크는 저렴해서 좋아요\n",
      "0 \n",
      "\n",
      "이 마스크는 예뻐서 좋아요\n",
      "1 \n",
      "\n",
      "이 마스크는 크기가 커서 좋아요\n",
      "2 \n",
      "\n"
     ]
    }
   ],
   "source": [
    "texts = [\"이 마스크는 저렴해서 좋아요\", \"이 마스크는 예뻐서 좋아요\", \"이 마스크는 크기가 커서 좋아요\"]\n",
    "for text in texts:\n",
    "    input_ids, attention_mask = encode_for_inference(device, tokenizer, text)\n",
    "    print(text)\n",
    "    print(inference(model, input_ids, attention_mask), '\\n')"
   ]
  },
  {
   "cell_type": "code",
   "execution_count": 43,
   "id": "c062d7a0",
   "metadata": {},
   "outputs": [
    {
     "data": {
      "text/plain": [
       "2"
      ]
     },
     "execution_count": 43,
     "metadata": {},
     "output_type": "execute_result"
    }
   ],
   "source": []
  },
  {
   "cell_type": "code",
   "execution_count": null,
   "id": "73c15762",
   "metadata": {},
   "outputs": [],
   "source": []
  }
 ],
 "metadata": {
  "kernelspec": {
   "display_name": "Python 3 (ipykernel)",
   "language": "python",
   "name": "python3"
  },
  "language_info": {
   "codemirror_mode": {
    "name": "ipython",
    "version": 3
   },
   "file_extension": ".py",
   "mimetype": "text/x-python",
   "name": "python",
   "nbconvert_exporter": "python",
   "pygments_lexer": "ipython3",
   "version": "3.8.16"
  }
 },
 "nbformat": 4,
 "nbformat_minor": 5
}
